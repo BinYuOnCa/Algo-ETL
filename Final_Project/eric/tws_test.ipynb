{
 "cells": [
  {
   "cell_type": "markdown",
   "metadata": {},
   "source": [
    "## Pre-requirement\n",
    "\n",
    "Open an IB account. [IB website](https://www.interactivebrokers.ca/en/home.php)"
   ]
  },
  {
   "cell_type": "markdown",
   "metadata": {},
   "source": [
    "## Step 1 - Install IB TWS (Trader Workstation)\n",
    "- Download and insall [TWS software](https://www.interactivebrokers.ca/en/index.php?f=45276#tws-software)  \n",
    "\n",
    "IB provides APIs for both TWS and IB GateWay. TWS is recommanded because you can have GUI to verify the placed orders. IB GateWay has not GUI. So you can only use it by API. IB Gateway is suitable when the robot is much stable."
   ]
  },
  {
   "cell_type": "markdown",
   "metadata": {},
   "source": [
    "## Step 2 - Install TWS API\n",
    "- Download [TWS API package](https://www.interactivebrokers.ca/en/index.php?f=45481)  \n",
    "- Unzip package, and cd IBJts/source/pythonclient  \n",
    "- Install local package: python -m setup.py install \n",
    "- Check if ibapi package is installed: python -c 'import ibapi'\n"
   ]
  },
  {
   "cell_type": "markdown",
   "metadata": {},
   "source": [
    "## Step 3 - Configure TWS\n",
    "- Open TWS, login to <font color='red'>**paper account**</font>.\n",
    "- File->Global Configuration->API->Settings\n",
    "![](tws-config.png)"
   ]
  },
  {
   "cell_type": "markdown",
   "metadata": {},
   "source": [
    "## Step 4 - Test TWS API\n",
    "\n",
    "Please run each cell one by one"
   ]
  },
  {
   "cell_type": "code",
   "execution_count": 48,
   "metadata": {},
   "outputs": [],
   "source": [
    "import time\n",
    "import datetime\n",
    "import threading\n",
    "\n",
    "import ibapi\n",
    "import ibapi.wrapper as wrapper\n",
    "import ibapi.client as client\n",
    "from ibapi.wrapper import EWrapper\n",
    "from ibapi.client import EClient\n",
    "from ibapi.contract import Contract\n",
    "from ibapi.order import Order\n",
    "from ibapi.ticktype import TickType, TickTypeEnum\n",
    "\n",
    "from ibapi import comm  # read message returned from API\n",
    "from ibapi.account_summary_tags import AccountSummaryTags\n",
    "from ibapi.utils import iswrapper"
   ]
  },
  {
   "cell_type": "code",
   "execution_count": 49,
   "metadata": {},
   "outputs": [],
   "source": [
    "def createContract(\n",
    "    symbol,\n",
    "    sec_type='STK',\n",
    "    exch='SMART',\n",
    "    prim_exch='ISLAND',\n",
    "    currency='USD'\n",
    "):\n",
    "    contract = Contract()\n",
    "    contract.symbol = symbol\n",
    "    contract.secType = sec_type\n",
    "    contract.exchange = exch\n",
    "    contract.primaryExch = prim_exch\n",
    "    contract.currency = currency\n",
    "    return contract\n",
    "\n",
    "def createOrder(action, quantity, limit_price=None):\n",
    "\n",
    "    def LimitOrder(action, quantity, limit_price):\n",
    "        # ! [limitorder]\n",
    "        order = Order()\n",
    "        order.action = action\n",
    "        order.orderType = \"LMT\"\n",
    "        order.totalQuantity = quantity\n",
    "        order.lmtPrice = limit_price\n",
    "        # ! [limitorder]\n",
    "        return order\n",
    "\n",
    "    def MarketOrder(action, quantity):\n",
    "        # ! [market]\n",
    "        order = Order()\n",
    "        order.action = action\n",
    "        order.orderType = \"MKT\"\n",
    "        order.totalQuantity = quantity\n",
    "        # ! [market]\n",
    "        return order\n",
    "\n",
    "    if limit_price is None:\n",
    "        return MarketOrder(action, quantity)\n",
    "    else:\n",
    "        return LimitOrder(action, quantity, limit_price)\n"
   ]
  },
  {
   "cell_type": "code",
   "execution_count": 50,
   "metadata": {},
   "outputs": [],
   "source": [
    "class IBClient(EClient):  # For sending msg\n",
    "    def __init__(self, wrapper):\n",
    "        EClient.__init__(self, wrapper)\n",
    "\n",
    "class IBWrapper(EWrapper):  # For receiving msg\n",
    "    def __init__(self):\n",
    "        EWrapper.__init__(self)\n",
    "\n",
    "class IBClientApp(IBWrapper, IBClient):\n",
    "    def __init__(self, IP, port, clientId):\n",
    "        IBWrapper.__init__(self)\n",
    "        IBClient.__init__(self, wrapper=self)\n",
    "        self.IP = IP\n",
    "        self.port = port\n",
    "        self.clientId = clientId\n",
    "        self.info = {'positions': []}\n",
    "        self.history_data = {}\n",
    "        self.order_record = {}\n",
    "        self.permId2ord = {}\n",
    "\n",
    "    def getConnection(self):\n",
    "        self.connect(self.IP, self.port, self.clientId)\n",
    "        self.reqIds(-1)\n",
    "        self.getMessage(1)\n",
    "    \n",
    "    def getNextValidId(self):\n",
    "        self.valid_id += 1\n",
    "        return self.valid_id\n",
    "    \n",
    "    @iswrapper\n",
    "    def nextValidId(self, orderId):\n",
    "        super().nextValidId(orderId)\n",
    "        print(f'First Valid orderId is: {orderId}')\n",
    "        self.valid_id = orderId\n",
    "\n",
    "    @iswrapper\n",
    "    def error(self, reqId, errorCode, errorString):\n",
    "        super().error(reqId, errorCode, errorString)\n",
    "        if int(errorCode) >= 2000:\n",
    "            return\n",
    "        print('| Server return an error! reqId: %s, errorCode:%s, msg:%s' % (\n",
    "            reqId, errorCode, errorString))\n",
    "\n",
    "    def getAccInfo(self):\n",
    "        self.info = {'positions': []}\n",
    "        self.reqAccountSummary(102, \"All\", AccountSummaryTags.AllTags)\n",
    "        self.reqPositions()\n",
    "        time.sleep(2)\n",
    "        self.cancelAccountSummary(102)\n",
    "        self.getMessage(1)\n",
    "        return self.info\n",
    "\n",
    "    @iswrapper\n",
    "    def accountSummary(self, reqId: int, account: str, tag: str, value: str,\n",
    "                       currency: str):\n",
    "        super().accountSummary(reqId, account, tag, value, currency)\n",
    "        if (tag == 'TotalCashValue'):\n",
    "            self.info['cash'] = value\n",
    "        if (tag == 'NetLiquidation'):\n",
    "            self.info['total'] = value\n",
    "\n",
    "    @iswrapper\n",
    "    def accountSummaryEnd(self, reqId: int):\n",
    "        super().accountSummaryEnd(reqId)\n",
    "        return\n",
    "\n",
    "    @iswrapper\n",
    "    def position(self, account, contract, position, avgCost):\n",
    "        super().position(account, contract, position, avgCost)\n",
    "        tmp = [contract.symbol, contract.secType, contract.currency, position, avgCost]\n",
    "        self.info['positions'].append(tmp)\n",
    "\n",
    "    @iswrapper\n",
    "    def positionEnd(self):\n",
    "        super().positionEnd()\n",
    "        return\n",
    "\n",
    "    def getHistoryData(self, reqId, symbol, queryTime, lastFor='10000 S', timeGap='5 secs'):\n",
    "        contract = createContract(symbol, 'STK', 'SMART', 'SMART', 'USD')\n",
    "        self.reqHistoricalData(\n",
    "            reqId, contract, queryTime,\n",
    "            lastFor, timeGap, 'TRADES', 1, 1, False, []\n",
    "        )\n",
    "\n",
    "    def getWatchListData(self, reqId, symbol):\n",
    "        contract = createContract(symbol, 'STK', 'SMART', 'SMART', 'USD')\n",
    "        self.reqMktData(\n",
    "            reqId, contract,\n",
    "            \"\", False, False, []\n",
    "        )\n",
    "\n",
    "    @iswrapper\n",
    "    def historicalData(self, reqId, date, open, high,\n",
    "                       low, close, volume, barCount,\n",
    "                       WAP, hasGaps):\n",
    "        super().historicalData(reqId, date, open, high, low, close, volume,\n",
    "                               barCount, WAP, hasGaps)\n",
    "\n",
    "        if reqId not in self.history_data.keys():\n",
    "            self.history_data[reqId] = []\n",
    "\n",
    "        single_row = '%s,%s,%s,%s,%s,%s\\n' % (\n",
    "            date, open, high, low, close, volume\n",
    "        )\n",
    "        self.history_data[reqId].append(single_row)\n",
    "\n",
    "    @iswrapper\n",
    "    def historicalDataEnd(self, reqId: int, start: str, end: str):\n",
    "        super().historicalDataEnd(reqId, start, end)\n",
    "\n",
    "    def sendOrderToServer(\n",
    "        self,\n",
    "        symbol,\n",
    "        quantity,\n",
    "        sec_type='STK',\n",
    "        primary_exch='SMART',\n",
    "        price=None\n",
    "    ):\n",
    "\n",
    "        contract = createContract(\n",
    "            symbol,\n",
    "            sec_type,\n",
    "            'SMART',\n",
    "            primary_exch,\n",
    "            'USD'\n",
    "        )\n",
    "        action = \"BUY\" if quantity > 0 else \"SELL\"\n",
    "        order = createOrder(action, abs(quantity), price)\n",
    "        orderId = self.getNextValidId()\n",
    "\n",
    "        print('|- Place order. ID is %d' % orderId)\n",
    "        self.placeOrder(orderId, contract, order)\n",
    "        print(self.order_record)\n",
    "        self.order_record[orderId] = [symbol, action, False]\n",
    "\n",
    "    @iswrapper\n",
    "    def orderStatus(self, orderId, status, filled,\n",
    "                    remaining, avgFillPrice, permId,\n",
    "                    parentId, lastFillPrice, clientId,\n",
    "                    whyHeld, mktCapPrice):\n",
    "        super().orderStatus(orderId, status, filled, remaining,\n",
    "                            avgFillPrice, permId, parentId,\n",
    "                            lastFillPrice, clientId, whyHeld, mktCapPrice)\n",
    "\n",
    "        if status != 'Filled' or self.order_record[orderId][2]:\n",
    "            return\n",
    "        symbol = self.order_record[orderId][0]\n",
    "        action = self.order_record[orderId][1]\n",
    "        self.order_record[orderId][2] = True\n",
    "\n",
    "        try:\n",
    "            msg = '| %s Filled! %s quantity:%d avgPrice:%.2f Total:%.2f\\n' % (\n",
    "                    time.strftime('%Y%m%d %H:%M:%S'),\n",
    "                    action, filled, avgFillPrice,\n",
    "                    filled * avgFillPrice\n",
    "                )\n",
    "            print(msg)\n",
    "            self.logger.log(symbol, msg)\n",
    "        except Exception:\n",
    "            print('| Error in logger!')\n",
    "\n",
    "    @iswrapper\n",
    "    def openOrder(self, orderId, contract, order, orderState):\n",
    "        super().openOrder(orderId, contract, order, orderState)\n",
    "        # OpenOrder. ID: 2 UVXY STK @ SMART : BUY MKT 10.0 PreSubmitted\n",
    "        print(\"OpenOrder. ID:\", orderId, contract.symbol, contract.secType,\n",
    "              \"@\", contract.exchange, \":\", order.action, order.orderType,\n",
    "              order.totalQuantity, orderState.status)\n",
    "        order.contract = contract\n",
    "        self.permId2ord[order.permId] = order\n",
    "\n",
    "    @iswrapper\n",
    "    def openOrderEnd(self):\n",
    "        # ! [openorderend]\n",
    "        super().openOrderEnd()\n",
    "        print(\"OpenOrderEnd\")\n",
    "        # ! [openorderend]\n",
    "        print(\"Received %d openOrders\" % len(self.permId2ord))\n",
    "\n",
    "    def getMessage(self, wait=3):\n",
    "        time.sleep(wait)\n",
    "        while not self.msg_queue.empty():\n",
    "            text = self.msg_queue.get(block=True, timeout=0.2)\n",
    "            fields = comm.read_fields(text)\n",
    "            self.decoder.interpret(fields)\n",
    "    \n",
    "    def tickPrice(self, reqId, tickType, price: float, attrib):\n",
    "        super().tickPrice(reqId, tickType, price, attrib)\n",
    "        print(\"TickPrice. TickerId:\", reqId, \"tickType:\", tickType, \"Price:\", price, \"CanAutoExecute:\", attrib.canAutoExecute,\"PastLimit:\", attrib.pastLimit, end=' ')\n",
    "        if tickType == TickTypeEnum.BID or tickType == TickTypeEnum.ASK:\n",
    "            print(\"PreOpen:\", attrib.preOpen)\n",
    "        else:\n",
    "            print()"
   ]
  },
  {
   "cell_type": "markdown",
   "metadata": {},
   "source": [
    "### Connect and run app"
   ]
  },
  {
   "cell_type": "code",
   "execution_count": 51,
   "metadata": {},
   "outputs": [
    {
     "name": "stderr",
     "output_type": "stream",
     "text": [
      "ERROR -1 2104 Market data farm connection is OK:usfarm.nj\n",
      "ERROR -1 2104 Market data farm connection is OK:hfarm\n",
      "ERROR -1 2104 Market data farm connection is OK:eufarm\n",
      "ERROR -1 2104 Market data farm connection is OK:jfarm\n",
      "ERROR -1 2104 Market data farm connection is OK:usfuture\n",
      "ERROR -1 2104 Market data farm connection is OK:cashfarm\n",
      "ERROR -1 2104 Market data farm connection is OK:usfarm\n",
      "ERROR -1 2106 HMDS data farm connection is OK:euhmds\n",
      "ERROR -1 2106 HMDS data farm connection is OK:fundfarm\n",
      "ERROR -1 2106 HMDS data farm connection is OK:ushmds\n",
      "ERROR -1 2158 Sec-def data farm connection is OK:secdefnj\n"
     ]
    },
    {
     "name": "stdout",
     "output_type": "stream",
     "text": [
      "OpenOrder. ID: 5 BA STK @ SMART : BUY MKT 1.0 PreSubmitted\n",
      "OpenOrder. ID: 9 BA STK @ SMART : BUY MKT 1.0 PreSubmitted\n",
      "OpenOrderEnd\n",
      "Received 2 openOrders\n",
      "First Valid orderId is: 10\n",
      "First Valid orderId is: 10\n"
     ]
    }
   ],
   "source": [
    "app = IBClientApp('127.0.0.1', 7497, clientId=0)\n",
    "app.getConnection()\n",
    "app.reqMarketDataType(3)  # set to delayed stream data\n",
    "ib_thread = threading.Thread(name='ib_thread', target=app.run)\n",
    "ib_thread.start()"
   ]
  },
  {
   "cell_type": "code",
   "execution_count": 52,
   "metadata": {},
   "outputs": [
    {
     "data": {
      "text/plain": [
       "{'positions': [['IBKR', 'STK', 'USD', -1.0, 53.757],\n",
       "  ['BA', 'STK', 'USD', 316.0, 212.52432815],\n",
       "  ['AAPL', 'STK', 'USD', 800.0, 136.1100776]],\n",
       " 'total': '1009942.92',\n",
       " 'cash': '824204.23'}"
      ]
     },
     "execution_count": 52,
     "metadata": {},
     "output_type": "execute_result"
    }
   ],
   "source": [
    "app.getAccInfo()"
   ]
  },
  {
   "cell_type": "code",
   "execution_count": 53,
   "metadata": {},
   "outputs": [
    {
     "name": "stderr",
     "output_type": "stream",
     "text": [
      "ERROR 11 10167 Requested market data is not subscribed. Displaying delayed market data.\n"
     ]
    },
    {
     "name": "stdout",
     "output_type": "stream",
     "text": [
      "TickPrice. TickerId: 11 tickType: 68 Price: 9.74 CanAutoExecute: False PastLimit: False \n",
      "TickPrice. TickerId: 11 tickType: 72 Price: 10.18 CanAutoExecute: False PastLimit: False \n",
      "TickPrice. TickerId: 11 tickType: 73 Price: 9.54 CanAutoExecute: False PastLimit: False \n",
      "TickPrice. TickerId: 11 tickType: 75 Price: 10.33 CanAutoExecute: False PastLimit: False \n",
      "TickPrice. TickerId: 11 tickType: 66 Price: -1.0 CanAutoExecute: False PastLimit: False \n",
      "TickPrice. TickerId: 11 tickType: 67 Price: -1.0 CanAutoExecute: False PastLimit: False \n",
      "TickPrice. TickerId: 11 tickType: 76 Price: 0.0 CanAutoExecute: False PastLimit: False \n"
     ]
    }
   ],
   "source": [
    "app.getWatchListData(app.getNextValidId(), \"GOEV\")"
   ]
  },
  {
   "cell_type": "code",
   "execution_count": 54,
   "metadata": {},
   "outputs": [
    {
     "name": "stderr",
     "output_type": "stream",
     "text": [
      "ERROR 12 162 Historical Market Data Service error message:No market data permissions for ISLAND STK\n"
     ]
    },
    {
     "name": "stdout",
     "output_type": "stream",
     "text": [
      "| Server return an error! reqId: 12, errorCode:162, msg:Historical Market Data Service error message:No market data permissions for ISLAND STK\n"
     ]
    }
   ],
   "source": [
    "queryTime = (datetime.datetime.today() - datetime.timedelta(days=1)).strftime(\"%Y%m%d %H:%M:%S\")\n",
    "app.getHistoryData(app.getNextValidId(), 'AAPL', queryTime, '100 s', '1 secs')"
   ]
  },
  {
   "cell_type": "code",
   "execution_count": 55,
   "metadata": {},
   "outputs": [
    {
     "name": "stdout",
     "output_type": "stream",
     "text": [
      "|- Place order. ID is 13\n",
      "{}\n"
     ]
    },
    {
     "name": "stderr",
     "output_type": "stream",
     "text": [
      "ERROR 13 399 Order Message:\n",
      "BUY 1 BA NYSE\n",
      "Warning: your order will not be placed at the exchange until 2021-04-12 09:30:00 US/Eastern\n"
     ]
    },
    {
     "name": "stdout",
     "output_type": "stream",
     "text": [
      "| Server return an error! reqId: 13, errorCode:399, msg:Order Message:\n",
      "BUY 1 BA NYSE\n",
      "Warning: your order will not be placed at the exchange until 2021-04-12 09:30:00 US/Eastern\n",
      "OpenOrder. ID: 13 BA STK @ SMART : BUY MKT 1.0 PreSubmitted\n"
     ]
    }
   ],
   "source": [
    "app.sendOrderToServer('BA', 1)"
   ]
  },
  {
   "cell_type": "markdown",
   "metadata": {},
   "source": [
    "### <font color='red'>**Must** disconnect</font> before you leave, otherwise next time connection may fail."
   ]
  },
  {
   "cell_type": "code",
   "execution_count": 56,
   "metadata": {},
   "outputs": [],
   "source": [
    "app.disconnect()"
   ]
  },
  {
   "cell_type": "code",
   "execution_count": null,
   "metadata": {},
   "outputs": [],
   "source": []
  }
 ],
 "metadata": {
  "kernelspec": {
   "display_name": "ds_algo",
   "language": "python",
   "name": "ds_algo"
  },
  "language_info": {
   "codemirror_mode": {
    "name": "ipython",
    "version": 3
   },
   "file_extension": ".py",
   "mimetype": "text/x-python",
   "name": "python",
   "nbconvert_exporter": "python",
   "pygments_lexer": "ipython3",
   "version": "3.7.3"
  }
 },
 "nbformat": 4,
 "nbformat_minor": 5
}
