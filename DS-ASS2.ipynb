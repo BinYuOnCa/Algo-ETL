{
 "cells": [
  {
   "cell_type": "markdown",
   "metadata": {},
   "source": [
    "DS- Assignment 2\n",
    "=======================\n",
    "<br>\n",
    "\n",
    "<center>JIANPING ZHOU</center>\n",
    "\n",
    "<center> 01/03/2021 </center>\n",
    "<br>\n",
    "\n",
    "1\n",
    "---------\n",
    "\n",
    "Get 1-day trading data (open, close, high, low and volume) with 1 minute interval for Therma Bright Inc. (THRM.V).   \n",
    "Plot candle stick plot and VWAP in one figure using the 1-day data above.  [20 points]\n",
    "(10 points for candle stick plot and 10 points for VWAP)\n"
   ]
  },
  {
   "cell_type": "code",
   "execution_count": null,
   "metadata": {},
   "outputs": [],
   "source": [
    "pip install mpl_finance"
   ]
  },
  {
   "cell_type": "code",
   "execution_count": 121,
   "metadata": {},
   "outputs": [
    {
     "name": "stdout",
     "output_type": "stream",
     "text": [
      "Requirement already satisfied: scipy in d:\\anaconda\\lib\\site-packages (1.3.1)\n",
      "Note: you may need to restart the kernel to use updated packages.\n"
     ]
    }
   ],
   "source": [
    "pip install scipy"
   ]
  },
  {
   "cell_type": "code",
   "execution_count": 7,
   "metadata": {},
   "outputs": [],
   "source": [
    "import yfinance as yf\n",
    "import pandas as pd\n",
    "import numpy as np\n",
    "import finplot as fplt\n",
    "import matplotlib.pyplot as plt\n",
    "import mpl_finance\n",
    "from sklearn import decomposition\n",
    "import time\n",
    "from scipy.stats import pearsonr"
   ]
  },
  {
   "cell_type": "code",
   "execution_count": 102,
   "metadata": {},
   "outputs": [
    {
     "name": "stdout",
     "output_type": "stream",
     "text": [
      "[*********************100%***********************]  1 of 1 completed\n"
     ]
    },
    {
     "name": "stderr",
     "output_type": "stream",
     "text": [
      "D:\\anaconda\\lib\\site-packages\\ipykernel_launcher.py:6: SettingWithCopyWarning:\n",
      "\n",
      "\n",
      "A value is trying to be set on a copy of a slice from a DataFrame\n",
      "\n",
      "See the caveats in the documentation: http://pandas.pydata.org/pandas-docs/stable/user_guide/indexing.html#returning-a-view-versus-a-copy\n",
      "\n"
     ]
    },
    {
     "data": {
      "text/html": [
       "<div>\n",
       "<style scoped>\n",
       "    .dataframe tbody tr th:only-of-type {\n",
       "        vertical-align: middle;\n",
       "    }\n",
       "\n",
       "    .dataframe tbody tr th {\n",
       "        vertical-align: top;\n",
       "    }\n",
       "\n",
       "    .dataframe thead th {\n",
       "        text-align: right;\n",
       "    }\n",
       "</style>\n",
       "<table border=\"1\" class=\"dataframe\">\n",
       "  <thead>\n",
       "    <tr style=\"text-align: right;\">\n",
       "      <th></th>\n",
       "      <th>Datetime</th>\n",
       "      <th>Open</th>\n",
       "      <th>High</th>\n",
       "      <th>Low</th>\n",
       "      <th>Close</th>\n",
       "      <th>Adj Close</th>\n",
       "      <th>Volume</th>\n",
       "      <th>vwap</th>\n",
       "      <th>Date</th>\n",
       "    </tr>\n",
       "  </thead>\n",
       "  <tbody>\n",
       "    <tr>\n",
       "      <td>0</td>\n",
       "      <td>2021-01-29 09:30:00-05:00</td>\n",
       "      <td>0.54</td>\n",
       "      <td>0.54</td>\n",
       "      <td>0.53</td>\n",
       "      <td>0.53</td>\n",
       "      <td>0.53</td>\n",
       "      <td>0</td>\n",
       "      <td>NaN</td>\n",
       "      <td>1.61193e+09</td>\n",
       "    </tr>\n",
       "    <tr>\n",
       "      <td>1</td>\n",
       "      <td>2021-01-29 09:34:00-05:00</td>\n",
       "      <td>0.52</td>\n",
       "      <td>0.52</td>\n",
       "      <td>0.52</td>\n",
       "      <td>0.52</td>\n",
       "      <td>0.52</td>\n",
       "      <td>15550</td>\n",
       "      <td>0.520000</td>\n",
       "      <td>1.61193e+09</td>\n",
       "    </tr>\n",
       "    <tr>\n",
       "      <td>2</td>\n",
       "      <td>2021-01-29 09:36:00-05:00</td>\n",
       "      <td>0.53</td>\n",
       "      <td>0.53</td>\n",
       "      <td>0.53</td>\n",
       "      <td>0.53</td>\n",
       "      <td>0.53</td>\n",
       "      <td>2500</td>\n",
       "      <td>0.521385</td>\n",
       "      <td>1.61193e+09</td>\n",
       "    </tr>\n",
       "    <tr>\n",
       "      <td>3</td>\n",
       "      <td>2021-01-29 09:37:00-05:00</td>\n",
       "      <td>0.53</td>\n",
       "      <td>0.53</td>\n",
       "      <td>0.53</td>\n",
       "      <td>0.53</td>\n",
       "      <td>0.53</td>\n",
       "      <td>1000</td>\n",
       "      <td>0.521837</td>\n",
       "      <td>1.61193e+09</td>\n",
       "    </tr>\n",
       "    <tr>\n",
       "      <td>4</td>\n",
       "      <td>2021-01-29 09:38:00-05:00</td>\n",
       "      <td>0.53</td>\n",
       "      <td>0.53</td>\n",
       "      <td>0.53</td>\n",
       "      <td>0.53</td>\n",
       "      <td>0.53</td>\n",
       "      <td>157000</td>\n",
       "      <td>0.529117</td>\n",
       "      <td>1.61193e+09</td>\n",
       "    </tr>\n",
       "    <tr>\n",
       "      <td>...</td>\n",
       "      <td>...</td>\n",
       "      <td>...</td>\n",
       "      <td>...</td>\n",
       "      <td>...</td>\n",
       "      <td>...</td>\n",
       "      <td>...</td>\n",
       "      <td>...</td>\n",
       "      <td>...</td>\n",
       "      <td>...</td>\n",
       "    </tr>\n",
       "    <tr>\n",
       "      <td>173</td>\n",
       "      <td>2021-01-29 15:55:00-05:00</td>\n",
       "      <td>0.53</td>\n",
       "      <td>0.53</td>\n",
       "      <td>0.52</td>\n",
       "      <td>0.52</td>\n",
       "      <td>0.52</td>\n",
       "      <td>1200</td>\n",
       "      <td>0.521474</td>\n",
       "      <td>1.61195e+09</td>\n",
       "    </tr>\n",
       "    <tr>\n",
       "      <td>174</td>\n",
       "      <td>2021-01-29 15:56:00-05:00</td>\n",
       "      <td>0.52</td>\n",
       "      <td>0.52</td>\n",
       "      <td>0.52</td>\n",
       "      <td>0.52</td>\n",
       "      <td>0.52</td>\n",
       "      <td>56500</td>\n",
       "      <td>0.521451</td>\n",
       "      <td>1.61195e+09</td>\n",
       "    </tr>\n",
       "    <tr>\n",
       "      <td>175</td>\n",
       "      <td>2021-01-29 15:57:00-05:00</td>\n",
       "      <td>0.52</td>\n",
       "      <td>0.53</td>\n",
       "      <td>0.52</td>\n",
       "      <td>0.52</td>\n",
       "      <td>0.52</td>\n",
       "      <td>46000</td>\n",
       "      <td>0.521433</td>\n",
       "      <td>1.61195e+09</td>\n",
       "    </tr>\n",
       "    <tr>\n",
       "      <td>176</td>\n",
       "      <td>2021-01-29 15:58:00-05:00</td>\n",
       "      <td>0.52</td>\n",
       "      <td>0.52</td>\n",
       "      <td>0.52</td>\n",
       "      <td>0.52</td>\n",
       "      <td>0.52</td>\n",
       "      <td>6000</td>\n",
       "      <td>0.521431</td>\n",
       "      <td>1.61195e+09</td>\n",
       "    </tr>\n",
       "    <tr>\n",
       "      <td>177</td>\n",
       "      <td>2021-01-29 15:59:00-05:00</td>\n",
       "      <td>0.52</td>\n",
       "      <td>0.53</td>\n",
       "      <td>0.52</td>\n",
       "      <td>0.52</td>\n",
       "      <td>0.52</td>\n",
       "      <td>15500</td>\n",
       "      <td>0.521425</td>\n",
       "      <td>1.61195e+09</td>\n",
       "    </tr>\n",
       "  </tbody>\n",
       "</table>\n",
       "<p>178 rows × 9 columns</p>\n",
       "</div>"
      ],
      "text/plain": [
       "                     Datetime  Open  High   Low  Close  Adj Close  Volume  \\\n",
       "0   2021-01-29 09:30:00-05:00  0.54  0.54  0.53   0.53       0.53       0   \n",
       "1   2021-01-29 09:34:00-05:00  0.52  0.52  0.52   0.52       0.52   15550   \n",
       "2   2021-01-29 09:36:00-05:00  0.53  0.53  0.53   0.53       0.53    2500   \n",
       "3   2021-01-29 09:37:00-05:00  0.53  0.53  0.53   0.53       0.53    1000   \n",
       "4   2021-01-29 09:38:00-05:00  0.53  0.53  0.53   0.53       0.53  157000   \n",
       "..                        ...   ...   ...   ...    ...        ...     ...   \n",
       "173 2021-01-29 15:55:00-05:00  0.53  0.53  0.52   0.52       0.52    1200   \n",
       "174 2021-01-29 15:56:00-05:00  0.52  0.52  0.52   0.52       0.52   56500   \n",
       "175 2021-01-29 15:57:00-05:00  0.52  0.53  0.52   0.52       0.52   46000   \n",
       "176 2021-01-29 15:58:00-05:00  0.52  0.52  0.52   0.52       0.52    6000   \n",
       "177 2021-01-29 15:59:00-05:00  0.52  0.53  0.52   0.52       0.52   15500   \n",
       "\n",
       "         vwap         Date  \n",
       "0         NaN  1.61193e+09  \n",
       "1    0.520000  1.61193e+09  \n",
       "2    0.521385  1.61193e+09  \n",
       "3    0.521837  1.61193e+09  \n",
       "4    0.529117  1.61193e+09  \n",
       "..        ...          ...  \n",
       "173  0.521474  1.61195e+09  \n",
       "174  0.521451  1.61195e+09  \n",
       "175  0.521433  1.61195e+09  \n",
       "176  0.521431  1.61195e+09  \n",
       "177  0.521425  1.61195e+09  \n",
       "\n",
       "[178 rows x 9 columns]"
      ]
     },
     "execution_count": 102,
     "metadata": {},
     "output_type": "execute_result"
    }
   ],
   "source": [
    "DF = yf.download('THRM.V',period = \"1d\",interval='1m')\n",
    "DF['vwap'] = (np.cumsum(DF['Volume'] * DF['Adj Close']) / np.cumsum(DF['Volume']))\n",
    "DF.reset_index(inplace = True)\n",
    "DF['Date']=DF['Datetime']\n",
    "for i in range(len(DF['Date'])):\n",
    "    DF['Date'][i]=time.mktime(DF['Datetime'][i].timetuple())\n",
    "DF\n"
   ]
  },
  {
   "cell_type": "code",
   "execution_count": 103,
   "metadata": {},
   "outputs": [
    {
     "data": {
      "text/plain": [
       "[<matplotlib.lines.Line2D at 0x189a3dfe948>]"
      ]
     },
     "execution_count": 103,
     "metadata": {},
     "output_type": "execute_result"
    },
    {
     "data": {
      "image/png": "[encoded data removed]",
      "text/plain": [
       "<Figure size 720x360 with 1 Axes>"
      ]
     },
     "metadata": {
      "needs_background": "light"
     },
     "output_type": "display_data"
    }
   ],
   "source": [
    "fig, ax = plt.subplots(figsize=(10,5))\n",
    "mpl_finance.candlestick_ochl(\n",
    "    ax=ax,\n",
    "    quotes=DF[['Date', 'Open', 'High', 'High', 'Low']].values,\n",
    "    width=0.7,\n",
    "    colorup='r',\n",
    "    colordown='g')\n",
    "plt.plot(DF['Date'],DF['vwap'])\n"
   ]
  },
  {
   "cell_type": "markdown",
   "metadata": {},
   "source": [
    "2.Get daily trading data (open, close, high, low and volume) from 2018-01-01 to 2020-12-31 for Therma Bright Inc. (THRM.V).  \n",
    "---------\n",
    "Plot candle stick plot and 30-day and 100-day exponential moving averages on one figure. [20 points]\n",
    "(10 points for candle stick plot and 10 points for moving averages)\n"
   ]
  },
  {
   "cell_type": "code",
   "execution_count": 115,
   "metadata": {},
   "outputs": [
    {
     "name": "stdout",
     "output_type": "stream",
     "text": [
      "[*********************100%***********************]  1 of 1 completed\n"
     ]
    },
    {
     "name": "stderr",
     "output_type": "stream",
     "text": [
      "D:\\anaconda\\lib\\site-packages\\ipykernel_launcher.py:5: SettingWithCopyWarning:\n",
      "\n",
      "\n",
      "A value is trying to be set on a copy of a slice from a DataFrame\n",
      "\n",
      "See the caveats in the documentation: http://pandas.pydata.org/pandas-docs/stable/user_guide/indexing.html#returning-a-view-versus-a-copy\n",
      "\n"
     ]
    },
    {
     "data": {
      "text/html": [
       "<div>\n",
       "<style scoped>\n",
       "    .dataframe tbody tr th:only-of-type {\n",
       "        vertical-align: middle;\n",
       "    }\n",
       "\n",
       "    .dataframe tbody tr th {\n",
       "        vertical-align: top;\n",
       "    }\n",
       "\n",
       "    .dataframe thead th {\n",
       "        text-align: right;\n",
       "    }\n",
       "</style>\n",
       "<table border=\"1\" class=\"dataframe\">\n",
       "  <thead>\n",
       "    <tr style=\"text-align: right;\">\n",
       "      <th></th>\n",
       "      <th>Date</th>\n",
       "      <th>Open</th>\n",
       "      <th>High</th>\n",
       "      <th>Low</th>\n",
       "      <th>Close</th>\n",
       "      <th>Adj Close</th>\n",
       "      <th>Volume</th>\n",
       "      <th>Date1</th>\n",
       "      <th>30</th>\n",
       "      <th>100</th>\n",
       "    </tr>\n",
       "  </thead>\n",
       "  <tbody>\n",
       "    <tr>\n",
       "      <td>0</td>\n",
       "      <td>2018-01-02</td>\n",
       "      <td>0.080</td>\n",
       "      <td>0.085</td>\n",
       "      <td>0.075</td>\n",
       "      <td>0.075</td>\n",
       "      <td>0.075</td>\n",
       "      <td>159666</td>\n",
       "      <td>1.51487e+09</td>\n",
       "      <td>0.075000</td>\n",
       "      <td>0.075000</td>\n",
       "    </tr>\n",
       "    <tr>\n",
       "      <td>1</td>\n",
       "      <td>2018-01-03</td>\n",
       "      <td>0.080</td>\n",
       "      <td>0.080</td>\n",
       "      <td>0.070</td>\n",
       "      <td>0.075</td>\n",
       "      <td>0.075</td>\n",
       "      <td>718160</td>\n",
       "      <td>1.51496e+09</td>\n",
       "      <td>0.075000</td>\n",
       "      <td>0.075000</td>\n",
       "    </tr>\n",
       "    <tr>\n",
       "      <td>2</td>\n",
       "      <td>2018-01-04</td>\n",
       "      <td>0.070</td>\n",
       "      <td>0.075</td>\n",
       "      <td>0.065</td>\n",
       "      <td>0.070</td>\n",
       "      <td>0.070</td>\n",
       "      <td>693152</td>\n",
       "      <td>1.51504e+09</td>\n",
       "      <td>0.074677</td>\n",
       "      <td>0.074901</td>\n",
       "    </tr>\n",
       "    <tr>\n",
       "      <td>3</td>\n",
       "      <td>2018-01-05</td>\n",
       "      <td>0.070</td>\n",
       "      <td>0.070</td>\n",
       "      <td>0.065</td>\n",
       "      <td>0.065</td>\n",
       "      <td>0.065</td>\n",
       "      <td>474965</td>\n",
       "      <td>1.51513e+09</td>\n",
       "      <td>0.074053</td>\n",
       "      <td>0.074705</td>\n",
       "    </tr>\n",
       "    <tr>\n",
       "      <td>4</td>\n",
       "      <td>2018-01-08</td>\n",
       "      <td>0.065</td>\n",
       "      <td>0.080</td>\n",
       "      <td>0.065</td>\n",
       "      <td>0.080</td>\n",
       "      <td>0.080</td>\n",
       "      <td>1068350</td>\n",
       "      <td>1.51539e+09</td>\n",
       "      <td>0.074437</td>\n",
       "      <td>0.074810</td>\n",
       "    </tr>\n",
       "    <tr>\n",
       "      <td>...</td>\n",
       "      <td>...</td>\n",
       "      <td>...</td>\n",
       "      <td>...</td>\n",
       "      <td>...</td>\n",
       "      <td>...</td>\n",
       "      <td>...</td>\n",
       "      <td>...</td>\n",
       "      <td>...</td>\n",
       "      <td>...</td>\n",
       "      <td>...</td>\n",
       "    </tr>\n",
       "    <tr>\n",
       "      <td>747</td>\n",
       "      <td>2020-12-22</td>\n",
       "      <td>0.210</td>\n",
       "      <td>0.230</td>\n",
       "      <td>0.195</td>\n",
       "      <td>0.215</td>\n",
       "      <td>0.215</td>\n",
       "      <td>2986435</td>\n",
       "      <td>1.60861e+09</td>\n",
       "      <td>0.153648</td>\n",
       "      <td>0.123961</td>\n",
       "    </tr>\n",
       "    <tr>\n",
       "      <td>748</td>\n",
       "      <td>2020-12-23</td>\n",
       "      <td>0.210</td>\n",
       "      <td>0.215</td>\n",
       "      <td>0.200</td>\n",
       "      <td>0.210</td>\n",
       "      <td>0.210</td>\n",
       "      <td>1138245</td>\n",
       "      <td>1.6087e+09</td>\n",
       "      <td>0.157284</td>\n",
       "      <td>0.125665</td>\n",
       "    </tr>\n",
       "    <tr>\n",
       "      <td>749</td>\n",
       "      <td>2020-12-24</td>\n",
       "      <td>0.220</td>\n",
       "      <td>0.230</td>\n",
       "      <td>0.210</td>\n",
       "      <td>0.225</td>\n",
       "      <td>0.225</td>\n",
       "      <td>2114075</td>\n",
       "      <td>1.60879e+09</td>\n",
       "      <td>0.161653</td>\n",
       "      <td>0.127632</td>\n",
       "    </tr>\n",
       "    <tr>\n",
       "      <td>750</td>\n",
       "      <td>2020-12-29</td>\n",
       "      <td>0.235</td>\n",
       "      <td>0.235</td>\n",
       "      <td>0.205</td>\n",
       "      <td>0.225</td>\n",
       "      <td>0.225</td>\n",
       "      <td>5004639</td>\n",
       "      <td>1.60922e+09</td>\n",
       "      <td>0.165740</td>\n",
       "      <td>0.129560</td>\n",
       "    </tr>\n",
       "    <tr>\n",
       "      <td>751</td>\n",
       "      <td>2020-12-30</td>\n",
       "      <td>0.220</td>\n",
       "      <td>0.230</td>\n",
       "      <td>0.210</td>\n",
       "      <td>0.225</td>\n",
       "      <td>0.225</td>\n",
       "      <td>3156517</td>\n",
       "      <td>1.6093e+09</td>\n",
       "      <td>0.169563</td>\n",
       "      <td>0.131450</td>\n",
       "    </tr>\n",
       "  </tbody>\n",
       "</table>\n",
       "<p>752 rows × 10 columns</p>\n",
       "</div>"
      ],
      "text/plain": [
       "          Date   Open   High    Low  Close  Adj Close   Volume        Date1  \\\n",
       "0   2018-01-02  0.080  0.085  0.075  0.075      0.075   159666  1.51487e+09   \n",
       "1   2018-01-03  0.080  0.080  0.070  0.075      0.075   718160  1.51496e+09   \n",
       "2   2018-01-04  0.070  0.075  0.065  0.070      0.070   693152  1.51504e+09   \n",
       "3   2018-01-05  0.070  0.070  0.065  0.065      0.065   474965  1.51513e+09   \n",
       "4   2018-01-08  0.065  0.080  0.065  0.080      0.080  1068350  1.51539e+09   \n",
       "..         ...    ...    ...    ...    ...        ...      ...          ...   \n",
       "747 2020-12-22  0.210  0.230  0.195  0.215      0.215  2986435  1.60861e+09   \n",
       "748 2020-12-23  0.210  0.215  0.200  0.210      0.210  1138245   1.6087e+09   \n",
       "749 2020-12-24  0.220  0.230  0.210  0.225      0.225  2114075  1.60879e+09   \n",
       "750 2020-12-29  0.235  0.235  0.205  0.225      0.225  5004639  1.60922e+09   \n",
       "751 2020-12-30  0.220  0.230  0.210  0.225      0.225  3156517   1.6093e+09   \n",
       "\n",
       "           30       100  \n",
       "0    0.075000  0.075000  \n",
       "1    0.075000  0.075000  \n",
       "2    0.074677  0.074901  \n",
       "3    0.074053  0.074705  \n",
       "4    0.074437  0.074810  \n",
       "..        ...       ...  \n",
       "747  0.153648  0.123961  \n",
       "748  0.157284  0.125665  \n",
       "749  0.161653  0.127632  \n",
       "750  0.165740  0.129560  \n",
       "751  0.169563  0.131450  \n",
       "\n",
       "[752 rows x 10 columns]"
      ]
     },
     "execution_count": 115,
     "metadata": {},
     "output_type": "execute_result"
    }
   ],
   "source": [
    "DF = yf.download('THRM.V',start=\"2018-01-01\", end=\"2020-12-31\",interval='1d')\n",
    "DF.reset_index(inplace = True)\n",
    "DF['Date1']=DF['Date']\n",
    "for i in range(len(DF['Date1'])):\n",
    "    DF['Date1'][i]=time.mktime(DF['Date'][i].timetuple())\n",
    "DF['30'] = DF['Adj Close'].ewm(span=30, adjust=False).mean()\n",
    "DF['100'] = DF['Adj Close'].ewm(span=100, adjust=False).mean()\n",
    "DF"
   ]
  },
  {
   "cell_type": "code",
   "execution_count": 117,
   "metadata": {},
   "outputs": [
    {
     "data": {
      "text/plain": [
       "<matplotlib.legend.Legend at 0x189a2689c48>"
      ]
     },
     "execution_count": 117,
     "metadata": {},
     "output_type": "execute_result"
    },
    {
     "data": {
      "image/png": "[encoded data removed]",
      "text/plain": [
       "<Figure size 720x360 with 1 Axes>"
      ]
     },
     "metadata": {
      "needs_background": "light"
     },
     "output_type": "display_data"
    }
   ],
   "source": [
    "fig, ax = plt.subplots(figsize=(10,5))\n",
    "mpl_finance.candlestick_ochl(\n",
    "    ax=ax,\n",
    "    quotes=DF[['Date1', 'Open', 'High', 'High', 'Low']].values,\n",
    "    width=0.7,\n",
    "    colorup='r',\n",
    "    colordown='g')\n",
    "for ma in ['30','100']:\n",
    "    plt.plot(DF['Date1'], DF[ma], label=ma)\n",
    "plt.legend()"
   ]
  },
  {
   "cell_type": "markdown",
   "metadata": {},
   "source": [
    "3.Use the same data in Question 2.\n",
    "---------\n",
    "(1) Calculate daily return (return = log(today close/previous close)) [5 points]\n",
    "(2) Conduct the hypothesis testing to check if the distribution of daily return is normal.  [15 points]\n"
   ]
  },
  {
   "cell_type": "code",
   "execution_count": 118,
   "metadata": {},
   "outputs": [],
   "source": [
    "DF['logreturn']=np.log(DF['Adj Close'] / DF['Adj Close'].shift(1))"
   ]
  },
  {
   "cell_type": "code",
   "execution_count": 136,
   "metadata": {},
   "outputs": [
    {
     "name": "stdout",
     "output_type": "stream",
     "text": [
      "p = 3.17996e-61\n"
     ]
    }
   ],
   "source": [
    "import scipy \n",
    "k2, p=scipy.stats.normaltest (DF['logreturn'].dropna(), axis=0)\n",
    "print(\"p = {:g}\".format(p))"
   ]
  },
  {
   "cell_type": "markdown",
   "metadata": {},
   "source": [
    "it can be find reject the null hypothesis :the sample comes from a normal distribution. So the log return is not normal."
   ]
  },
  {
   "cell_type": "code",
   "execution_count": 137,
   "metadata": {},
   "outputs": [
    {
     "data": {
      "image/png": "[encoded data removed]",
      "text/plain": [
       "<Figure size 432x288 with 1 Axes>"
      ]
     },
     "metadata": {
      "needs_background": "light"
     },
     "output_type": "display_data"
    }
   ],
   "source": [
    "from statsmodels.graphics.gofplots import qqplot\n",
    "from matplotlib import pyplot\n",
    "qqplot(DF['logreturn'].dropna(),line='s')\n",
    "pyplot.show()"
   ]
  },
  {
   "cell_type": "markdown",
   "metadata": {},
   "source": [
    "From the qqplot we know log return has fat tails."
   ]
  },
  {
   "cell_type": "markdown",
   "metadata": {},
   "source": [
    "4.Take 10 stocks in S&P500 and collect daily close price from 2020-06-01 to 2020-12-31 for selected stocks.\n",
    "---------\n",
    "(1)\t) Calculate daily return (return = log(today close/previous close)) for each of 10 stocks [5 points]\n",
    "(2)\tRun PCA on calculated daily return and find the first principal component. [15 points]\n",
    "(3)\tPlot first principal component and daily return of S&P500 in one figure[10 points]\n",
    "(4)\tCalculate the correlation coefficient between first principal component and daily return of S&P500 index. [10 points]\n"
   ]
  },
  {
   "cell_type": "code",
   "execution_count": 3,
   "metadata": {},
   "outputs": [
    {
     "data": {
      "text/plain": [
       "['MMM', 'ABT', 'ABBV', 'ABMD', 'ACN', 'ATVI', 'ADBE', 'AMD', 'AAP', 'AES']"
      ]
     },
     "execution_count": 3,
     "metadata": {},
     "output_type": "execute_result"
    }
   ],
   "source": [
    "table=pd.read_html('https://en.wikipedia.org/wiki/List_of_S%26P_500_companies')\n",
    "SP500_NAME=table[0]['Symbol']\n",
    "Names=SP500_NAME.head(10).tolist()\n",
    "Names"
   ]
  },
  {
   "cell_type": "code",
   "execution_count": 4,
   "metadata": {},
   "outputs": [
    {
     "name": "stdout",
     "output_type": "stream",
     "text": [
      "[*********************100%***********************]  10 of 10 completed\n"
     ]
    }
   ],
   "source": [
    "DF = yf.download(Names, start=\"2020-06-01\", end=\"2020-12-31\",interval='1d')['Adj Close'].dropna()"
   ]
  },
  {
   "cell_type": "code",
   "execution_count": 11,
   "metadata": {},
   "outputs": [],
   "source": [
    "for i in range(len(Names)):\n",
    "    DF[Names[i]+'log return']=np.log(DF[Names[i]] / DF[Names[i]].shift(1))"
   ]
  },
  {
   "cell_type": "code",
   "execution_count": 71,
   "metadata": {},
   "outputs": [
    {
     "data": {
      "text/plain": [
       "PCA(copy=True, iterated_power='auto', n_components=None, random_state=None,\n",
       "    svd_solver='auto', tol=0.0, whiten=False)"
      ]
     },
     "execution_count": 71,
     "metadata": {},
     "output_type": "execute_result"
    }
   ],
   "source": [
    "DFreturn=DF.drop(columns=Names)\n",
    "DFreturn=DFreturn.dropna()\n",
    "pca = decomposition.PCA()\n",
    "pca.fit(DFreturn)"
   ]
  },
  {
   "cell_type": "code",
   "execution_count": 23,
   "metadata": {},
   "outputs": [
    {
     "data": {
      "image/png": "[encoded data removed]",
      "text/plain": [
       "<Figure size 432x288 with 1 Axes>"
      ]
     },
     "metadata": {
      "needs_background": "light"
     },
     "output_type": "display_data"
    }
   ],
   "source": [
    "import matplotlib.pyplot as plt\n",
    "plt.figure()\n",
    "plt.plot(pca.explained_variance_, 'k', linewidth=2)\n",
    "plt.xlabel('n_components', fontsize=16)\n",
    "plt.ylabel('explained_variance_', fontsize=16)\n",
    "plt.show()"
   ]
  },
  {
   "cell_type": "markdown",
   "metadata": {},
   "source": [
    "From the plot I will choice no more than 4 components,the performance reduce sharp for the firth component. So, I prefer choice first 4 components.  "
   ]
  },
  {
   "cell_type": "code",
   "execution_count": 34,
   "metadata": {},
   "outputs": [
    {
     "name": "stdout",
     "output_type": "stream",
     "text": [
      "[0.40127387 0.19965176 0.10044539 0.08092054]\n"
     ]
    },
    {
     "data": {
      "text/plain": [
       "0.7822915465818003"
      ]
     },
     "execution_count": 34,
     "metadata": {},
     "output_type": "execute_result"
    }
   ],
   "source": [
    "#From the plot I will choice no more than 4 components,the performance reduce sharp for the firth component. So, I prefer choice first 4 components. \n",
    "pca_4 = decomposition.PCA(n_components=4)\n",
    "pca_4.fit(DFreturn)\n",
    "#Each component performance\n",
    "print(pca_4.explained_variance_ratio_)\n",
    "#First four components can explain 78.22% variance\n",
    "sum(pca_4.explained_variance_ratio_)"
   ]
  },
  {
   "cell_type": "code",
   "execution_count": 68,
   "metadata": {},
   "outputs": [
    {
     "data": {
      "text/plain": [
       "array([[-0.0106072 ],\n",
       "       [ 0.0086536 ],\n",
       "       [ 0.02212661],\n",
       "       [-0.04976117],\n",
       "       [-0.02610842],\n",
       "       [-0.00592518],\n",
       "       [-0.02561984],\n",
       "       [ 0.17518011],\n",
       "       [-0.05345977],\n",
       "       [-0.02281404],\n",
       "       [-0.03117844],\n",
       "       [-0.02221317],\n",
       "       [ 0.00927764],\n",
       "       [-0.00602603],\n",
       "       [-0.01974409],\n",
       "       [ 0.00907227],\n",
       "       [ 0.08474079],\n",
       "       [-0.02519568],\n",
       "       [ 0.05711432],\n",
       "       [-0.00444567],\n",
       "       [-0.04997908],\n",
       "       [-0.02556153],\n",
       "       [-0.0076315 ],\n",
       "       [-0.02489568],\n",
       "       [ 0.02807036],\n",
       "       [-0.01785971],\n",
       "       [-0.03725177],\n",
       "       [ 0.01179652],\n",
       "       [ 0.06592506],\n",
       "       [-0.02623942],\n",
       "       [-0.03191839],\n",
       "       [ 0.022701  ],\n",
       "       [-0.03047402],\n",
       "       [-0.05390469],\n",
       "       [ 0.01414123],\n",
       "       [-0.05789708],\n",
       "       [ 0.05130234],\n",
       "       [-0.0806427 ],\n",
       "       [-0.01422032],\n",
       "       [ 0.03998729],\n",
       "       [-0.09629315],\n",
       "       [-0.01248967],\n",
       "       [ 0.01000855],\n",
       "       [-0.02265387],\n",
       "       [-0.05418747],\n",
       "       [-0.01009572],\n",
       "       [-0.03626496],\n",
       "       [ 0.04652773],\n",
       "       [ 0.04289611],\n",
       "       [ 0.08448773],\n",
       "       [-0.08320528],\n",
       "       [-0.00683312],\n",
       "       [ 0.01965526],\n",
       "       [-0.02338533],\n",
       "       [-0.01058064],\n",
       "       [ 0.01827284],\n",
       "       [-0.02637532],\n",
       "       [ 0.00667066],\n",
       "       [ 0.01232389],\n",
       "       [-0.03419417],\n",
       "       [-0.02876214],\n",
       "       [ 0.01608813],\n",
       "       [-0.00239696],\n",
       "       [-0.03157338],\n",
       "       [-0.00521565],\n",
       "       [-0.01422647],\n",
       "       [ 0.1466382 ],\n",
       "       [ 0.05955152],\n",
       "       [ 0.09390773],\n",
       "       [-0.0819131 ],\n",
       "       [ 0.05842516],\n",
       "       [ 0.02998907],\n",
       "       [-0.04488051],\n",
       "       [-0.02776364],\n",
       "       [ 0.05863802],\n",
       "       [ 0.0066511 ],\n",
       "       [ 0.03426289],\n",
       "       [-0.01203192],\n",
       "       [-0.01161885],\n",
       "       [ 0.09011581],\n",
       "       [ 0.01940929],\n",
       "       [-0.04311386],\n",
       "       [-0.04330486],\n",
       "       [-0.00776032],\n",
       "       [-0.01733057],\n",
       "       [-0.00547988],\n",
       "       [ 0.06427869],\n",
       "       [-0.0626332 ],\n",
       "       [ 0.05154622],\n",
       "       [-0.04196375],\n",
       "       [-0.00310425],\n",
       "       [ 0.01306455],\n",
       "       [-0.03480343],\n",
       "       [ 0.00105395],\n",
       "       [ 0.01660371],\n",
       "       [ 0.02095963],\n",
       "       [-0.00718876],\n",
       "       [ 0.0432807 ],\n",
       "       [ 0.0082397 ],\n",
       "       [ 0.0260112 ],\n",
       "       [ 0.00603802],\n",
       "       [-0.02433998],\n",
       "       [ 0.02516523],\n",
       "       [ 0.03277115],\n",
       "       [ 0.09090029],\n",
       "       [ 0.02973814],\n",
       "       [ 0.0433914 ],\n",
       "       [-0.01784359],\n",
       "       [-0.04606445],\n",
       "       [-0.09042726],\n",
       "       [-0.04535994],\n",
       "       [-0.00787297],\n",
       "       [ 0.04975763],\n",
       "       [ 0.07119577],\n",
       "       [-0.05267104],\n",
       "       [ 0.02419434],\n",
       "       [-0.01721121],\n",
       "       [-0.01206837],\n",
       "       [ 0.0107912 ],\n",
       "       [ 0.04563985],\n",
       "       [-0.03352263],\n",
       "       [ 0.01843214],\n",
       "       [ 0.00528399],\n",
       "       [-0.0042566 ],\n",
       "       [-0.01092917],\n",
       "       [-0.02581686],\n",
       "       [-0.03315916],\n",
       "       [ 0.00338252],\n",
       "       [ 0.00519139],\n",
       "       [ 0.01228957],\n",
       "       [-0.03281239],\n",
       "       [ 0.00538843],\n",
       "       [-0.00070273],\n",
       "       [ 0.04943786],\n",
       "       [-0.00291432],\n",
       "       [ 0.01631729],\n",
       "       [-0.04001492],\n",
       "       [-0.03298679],\n",
       "       [-0.00325161],\n",
       "       [-0.03055575],\n",
       "       [-0.01853731],\n",
       "       [ 0.03752591],\n",
       "       [-0.0049576 ],\n",
       "       [ 0.01795053],\n",
       "       [-0.00212693],\n",
       "       [-0.00386615],\n",
       "       [ 0.00340185],\n",
       "       [-0.00436314]])"
      ]
     },
     "execution_count": 68,
     "metadata": {},
     "output_type": "execute_result"
    }
   ],
   "source": [
    "pca_1 = decomposition.PCA(n_components=1)\n",
    "pca_1.fit(DFreturn)\n",
    "X_1 = pca_1.transform(DFreturn)\n",
    "#First component\n",
    "X_1"
   ]
  },
  {
   "cell_type": "code",
   "execution_count": 86,
   "metadata": {},
   "outputs": [
    {
     "name": "stdout",
     "output_type": "stream",
     "text": [
      "[*********************100%***********************]  1 of 1 completed\n"
     ]
    }
   ],
   "source": [
    "SP500 = yf.download('^GSPC', start=\"2020-06-01\", end=\"2020-12-31\",interval='1d').dropna()\n",
    "SP500['SP500 logreturn']=np.log(SP500['Adj Close'] / SP500['Adj Close'].shift(1))\n",
    "SP500=SP500.dropna()\n",
    "SP500['1st component']=X_1\n",
    "SP500.reset_index(inplace = True)"
   ]
  },
  {
   "cell_type": "code",
   "execution_count": 87,
   "metadata": {},
   "outputs": [
    {
     "data": {
      "text/plain": [
       "<matplotlib.legend.Legend at 0x147f2809dc8>"
      ]
     },
     "execution_count": 87,
     "metadata": {},
     "output_type": "execute_result"
    },
    {
     "data": {
      "image/png": "[encoded data removed]",
      "text/plain": [
       "<Figure size 432x288 with 1 Axes>"
      ]
     },
     "metadata": {
      "needs_background": "light"
     },
     "output_type": "display_data"
    }
   ],
   "source": [
    "# Plot first principal component and daily return of S&P500 in one figure\n",
    "for ma in ['SP500 logreturn','1st component']:\n",
    "    plt.plot(SP500['Date'], SP500[ma], label=ma)\n",
    "plt.legend()"
   ]
  },
  {
   "cell_type": "code",
   "execution_count": 93,
   "metadata": {},
   "outputs": [
    {
     "data": {
      "text/plain": [
       "array([[ 1.        , -0.76866383],\n",
       "       [-0.76866383,  1.        ]])"
      ]
     },
     "execution_count": 93,
     "metadata": {},
     "output_type": "execute_result"
    }
   ],
   "source": [
    "np.corrcoef(SP500['SP500 logreturn'], SP500['1st component'])"
   ]
  },
  {
   "cell_type": "code",
   "execution_count": 94,
   "metadata": {},
   "outputs": [
    {
     "data": {
      "text/plain": [
       "(-0.7686638260674221, 3.973377374805572e-30)"
      ]
     },
     "execution_count": 94,
     "metadata": {},
     "output_type": "execute_result"
    }
   ],
   "source": [
    "pccs = pearsonr(SP500['SP500 logreturn'], SP500['1st component'])\n",
    "pccs"
   ]
  },
  {
   "cell_type": "markdown",
   "metadata": {},
   "source": [
    "From the result we can find the first component has strong negative correlation with the S&P500. So, the first component can be seen as an opposite indicator for the market"
   ]
  },
  {
   "cell_type": "markdown",
   "metadata": {},
   "source": [
    "5.Pick 2 companies in the same industry, collect close, open, high and low for each company from 2020-06 to 2020-12.    \n",
    "---------\n",
    "Variable set 1 = company A’s close, open, high and low\n",
    "---------\n",
    "Variable set 2 = company B’s close, open, high and low  \n",
    "---------\n",
    "---------\n",
    "(1)\tRun canonical analysis using data stated above\n",
    "(2)\tGive some conclusion or findings from your analysis\n"
   ]
  },
  {
   "cell_type": "code",
   "execution_count": 2,
   "metadata": {},
   "outputs": [
    {
     "name": "stdout",
     "output_type": "stream",
     "text": [
      "[*********************100%***********************]  1 of 1 completed\n",
      "[*********************100%***********************]  1 of 1 completed\n"
     ]
    },
    {
     "name": "stderr",
     "output_type": "stream",
     "text": [
      "D:\\anaconda\\lib\\site-packages\\ipykernel_launcher.py:8: SettingWithCopyWarning: \n",
      "A value is trying to be set on a copy of a slice from a DataFrame\n",
      "\n",
      "See the caveats in the documentation: http://pandas.pydata.org/pandas-docs/stable/user_guide/indexing.html#returning-a-view-versus-a-copy\n",
      "  \n",
      "D:\\anaconda\\lib\\site-packages\\pandas\\core\\indexing.py:205: SettingWithCopyWarning: \n",
      "A value is trying to be set on a copy of a slice from a DataFrame\n",
      "\n",
      "See the caveats in the documentation: http://pandas.pydata.org/pandas-docs/stable/user_guide/indexing.html#returning-a-view-versus-a-copy\n",
      "  self._setitem_with_indexer(indexer, value)\n",
      "D:\\anaconda\\lib\\site-packages\\ipykernel_launcher.py:10: SettingWithCopyWarning: \n",
      "A value is trying to be set on a copy of a slice from a DataFrame\n",
      "\n",
      "See the caveats in the documentation: http://pandas.pydata.org/pandas-docs/stable/user_guide/indexing.html#returning-a-view-versus-a-copy\n",
      "  # Remove the CWD from sys.path while we load stuff.\n"
     ]
    }
   ],
   "source": [
    "TOT = yf.download('TOT', start=\"2020-06-01\", end=\"2020-12-31\",interval='1d').dropna()\n",
    "XOM = yf.download('XOM', start=\"2020-06-01\", end=\"2020-12-31\",interval='1d').dropna()\n",
    "TOT.reset_index(inplace = True)\n",
    "XOM.reset_index(inplace = True)\n",
    "TOT['Datetime']=TOT['Date']\n",
    "XOM['Datetime']=XOM['Date']\n",
    "for i in range(len(TOT['Date'])):\n",
    "    TOT['Datetime'][i]=time.mktime(TOT['Date'][i].timetuple())\n",
    "for i in range(len(TOT['Date'])):\n",
    "    XOM['Datetime'][i]=time.mktime(XOM['Date'][i].timetuple())    "
   ]
  },
  {
   "cell_type": "code",
   "execution_count": 3,
   "metadata": {},
   "outputs": [
    {
     "name": "stderr",
     "output_type": "stream",
     "text": [
      "D:\\anaconda\\lib\\site-packages\\ipykernel_launcher.py:8: UserWarning: Matplotlib is currently using module://ipykernel.pylab.backend_inline, which is a non-GUI backend, so cannot show the figure.\n",
      "  \n"
     ]
    },
    {
     "data": {
      "image/png": "[encoded data removed]",
      "text/plain": [
       "<Figure size 720x360 with 1 Axes>"
      ]
     },
     "metadata": {
      "needs_background": "light"
     },
     "output_type": "display_data"
    }
   ],
   "source": [
    "fig, ax = plt.subplots(figsize=(10,5))\n",
    "mpl_finance.candlestick_ochl(\n",
    "    ax=ax,\n",
    "    quotes=TOT[['Datetime', 'Open', 'High', 'High', 'Low']].values,\n",
    "    width=0.7,\n",
    "    colorup='r',\n",
    "    colordown='g')\n",
    "fig.show()"
   ]
  },
  {
   "cell_type": "code",
   "execution_count": 4,
   "metadata": {
    "scrolled": true
   },
   "outputs": [
    {
     "name": "stderr",
     "output_type": "stream",
     "text": [
      "D:\\anaconda\\lib\\site-packages\\ipykernel_launcher.py:8: UserWarning: Matplotlib is currently using module://ipykernel.pylab.backend_inline, which is a non-GUI backend, so cannot show the figure.\n",
      "  \n"
     ]
    },
    {
     "data": {
      "image/png": "[encoded data removed]",
      "text/plain": [
       "<Figure size 720x360 with 1 Axes>"
      ]
     },
     "metadata": {
      "needs_background": "light"
     },
     "output_type": "display_data"
    }
   ],
   "source": [
    "fig, ax = plt.subplots(figsize=(10,5))\n",
    "mpl_finance.candlestick_ochl(\n",
    "    ax=ax,\n",
    "    quotes=XOM[['Datetime', 'Open', 'High', 'High', 'Low']].values,\n",
    "    width=0.7,\n",
    "    colorup='r',\n",
    "    colordown='g')\n",
    "fig.show()"
   ]
  },
  {
   "cell_type": "code",
   "execution_count": 46,
   "metadata": {},
   "outputs": [
    {
     "data": {
      "text/plain": [
       "(0.8265107369341083, 2.922424833803911e-38)"
      ]
     },
     "execution_count": 46,
     "metadata": {},
     "output_type": "execute_result"
    }
   ],
   "source": [
    "TOT['logreturn TOT']=np.log(TOT['Adj Close'] / TOT['Adj Close'].shift(1))\n",
    "XOM['logreturn XOM']=np.log(XOM['Adj Close'] / XOM['Adj Close'].shift(1))\n",
    "pccs = pearsonr(TOT['logreturn TOT'].dropna(), XOM['logreturn XOM'].dropna())\n",
    "pccs"
   ]
  },
  {
   "cell_type": "code",
   "execution_count": 10,
   "metadata": {},
   "outputs": [],
   "source": [
    "#from the correlation test, we can find the log return for thoes two companys has highly linear relation."
   ]
  }
 ],
 "metadata": {
  "kernelspec": {
   "display_name": "Python 3",
   "language": "python",
   "name": "python3"
  },
  "language_info": {
   "codemirror_mode": {
    "name": "ipython",
    "version": 3
   },
   "file_extension": ".py",
   "mimetype": "text/x-python",
   "name": "python",
   "nbconvert_exporter": "python",
   "pygments_lexer": "ipython3",
   "version": "3.7.4"
  }
 },
 "nbformat": 4,
 "nbformat_minor": 2
}
