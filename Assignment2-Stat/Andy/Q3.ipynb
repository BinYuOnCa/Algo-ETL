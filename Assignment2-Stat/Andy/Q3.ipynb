{
 "metadata": {
  "language_info": {
   "codemirror_mode": {
    "name": "ipython",
    "version": 3
   },
   "file_extension": ".py",
   "mimetype": "text/x-python",
   "name": "python",
   "nbconvert_exporter": "python",
   "pygments_lexer": "ipython3",
   "version": "3.7.9-final"
  },
  "orig_nbformat": 2,
  "kernelspec": {
   "name": "python3",
   "display_name": "Python 3",
   "language": "python"
  }
 },
 "nbformat": 4,
 "nbformat_minor": 2,
 "cells": [
  {
   "source": [
    "(1) Calculate daily return (return = log(today close/previous close)) "
   ],
   "cell_type": "markdown",
   "metadata": {}
  },
  {
   "source": [
    "- Download Candles Data"
   ],
   "cell_type": "markdown",
   "metadata": {}
  },
  {
   "cell_type": "code",
   "execution_count": 1,
   "metadata": {},
   "outputs": [],
   "source": [
    "import yfinance as yf\n",
    "\n",
    "candles_df = yf.Ticker('THRM.V').history(interval='1d',\n",
    "                                         start='2018-1-1',\n",
    "                                         end='2021-1-1')                                    "
   ]
  },
  {
   "source": [
    "- Compute the log returns"
   ],
   "cell_type": "markdown",
   "metadata": {}
  },
  {
   "cell_type": "code",
   "execution_count": 2,
   "metadata": {},
   "outputs": [
    {
     "output_type": "execute_result",
     "data": {
      "text/plain": [
       "Date\n",
       "2018-01-03    0.000000\n",
       "2018-01-04   -0.068993\n",
       "2018-01-05   -0.074108\n",
       "2018-01-08    0.207639\n",
       "2018-01-09    0.223144\n",
       "                ...   \n",
       "2020-12-23   -0.023530\n",
       "2020-12-24    0.068993\n",
       "2020-12-29    0.000000\n",
       "2020-12-30    0.000000\n",
       "2020-12-31   -0.045462\n",
       "Name: log_return, Length: 752, dtype: float64"
      ]
     },
     "metadata": {},
     "execution_count": 2
    }
   ],
   "source": [
    "import numpy as np\n",
    "\n",
    "candles_df['return'] = candles_df['Close'] / candles_df['Close'].shift(1)\n",
    "candles_df['log_return'] = np.log(candles_df['return'])\n",
    "# drop na, i.e., drop first day since no previous close based on the dataset\n",
    "log_return = candles_df['log_return'].dropna() \n",
    "\n",
    "log_return"
   ]
  },
  {
   "source": [
    "(2)  Conduct the hypothesis testing to check if the distribution of daily return is normal"
   ],
   "cell_type": "markdown",
   "metadata": {}
  },
  {
   "source": [
    "- $H_0$: Log returns follows normal distribution vs $H_a$: Log returns doesn't follow normal distribution\n"
   ],
   "cell_type": "markdown",
   "metadata": {}
  },
  {
   "source": [
    "- Method1: Shapiro-Wilk Test:"
   ],
   "cell_type": "markdown",
   "metadata": {}
  },
  {
   "cell_type": "code",
   "execution_count": 3,
   "metadata": {},
   "outputs": [
    {
     "output_type": "stream",
     "name": "stdout",
     "text": [
      "The p-value for Shapiro-Wilk test is 4.011051164214806e-30\n"
     ]
    }
   ],
   "source": [
    "from scipy import stats\n",
    "\n",
    "shapiro_test_res = stats.shapiro(log_return)\n",
    "print('The p-value for Shapiro-Wilk test is {}'.format(\n",
    "    shapiro_test_res.pvalue))"
   ]
  },
  {
   "cell_type": "code",
   "execution_count": null,
   "metadata": {},
   "outputs": [],
   "source": []
  },
  {
   "source": [
    "Since the p-value < 0.05, we reject $H_0$, which implies that the log returns do not follow the normal distribution."
   ],
   "cell_type": "markdown",
   "metadata": {}
  },
  {
   "source": [
    "- Method2: KS-Test (Compare ECDF and Taregeted CDF, i.e., normal distribution)"
   ],
   "cell_type": "markdown",
   "metadata": {}
  },
  {
   "cell_type": "code",
   "execution_count": 4,
   "metadata": {},
   "outputs": [
    {
     "output_type": "stream",
     "name": "stdout",
     "text": [
      "The p-value for K-S test is 7.179832123503775e-60\n"
     ]
    }
   ],
   "source": [
    "est_mean = log_return.mean()\n",
    "est_sd = (log_return.var() * len(log_return) / (len(log_return) - 1))**.5\n",
    "\n",
    "ks_test_res = stats.kstest(\n",
    "    log_return, lambda x: stats.norm.cdf(x, loc=est_mean, scale=est_sd))\n",
    "print('The p-value for K-S test is {}'.format(ks_test_res.pvalue))"
   ]
  },
  {
   "source": [
    "Since the p-value < 0.05, we reject $H_0$, which implies that the log returns do not follow the normal distribution."
   ],
   "cell_type": "markdown",
   "metadata": {}
  }
 ]
}