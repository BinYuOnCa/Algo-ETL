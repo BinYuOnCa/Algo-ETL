{
 "cells": [
  {
   "cell_type": "code",
   "execution_count": 1,
   "id": "earlier-tablet",
   "metadata": {},
   "outputs": [],
   "source": [
    "import pandas as pd\n",
    "import configparser\n",
    "import lib.Tools as tools\n",
    "import matplotlib.pyplot as plt\n",
    "import question_3 as question3"
   ]
  },
  {
   "cell_type": "code",
   "execution_count": 2,
   "id": "noticed-entrance",
   "metadata": {},
   "outputs": [
    {
     "name": "stdout",
     "output_type": "stream",
     "text": [
      "          Date  Unnamed: 0         c         h         l         o  \\\n",
      "0   2018-01-02           0   43.0650   43.0750   42.3150   42.5400   \n",
      "1   2018-01-03           1   43.0575   43.6375   42.9900   43.1325   \n",
      "2   2018-01-04           2   43.2575   43.3675   43.0200   43.1350   \n",
      "3   2018-01-05           3   43.7500   43.8425   43.2625   43.3600   \n",
      "4   2018-01-08           4   43.5875   43.9025   43.4825   43.5875   \n",
      "..         ...         ...       ...       ...       ...       ...   \n",
      "750 2020-12-24         750  131.9700  133.4600  131.1000  131.3200   \n",
      "751 2020-12-28         751  136.6900  137.3400  133.5100  133.9900   \n",
      "752 2020-12-29         752  134.8700  138.7890  134.3409  138.0500   \n",
      "753 2020-12-30         753  133.7200  135.9900  133.4000  135.5800   \n",
      "754 2020-12-31         754  132.6900  134.7400  131.7200  134.0800   \n",
      "\n",
      "              t daily_return          v  \n",
      "0    1514851200     0.000000   25555934  \n",
      "1    1514937600    -0.000174   29517899  \n",
      "2    1515024000     0.004634   22434597  \n",
      "3    1515110400     0.011321   23660018  \n",
      "4    1515369600    -0.003721   20567766  \n",
      "..          ...          ...        ...  \n",
      "750  1608768000     0.007683   54930064  \n",
      "751  1609113600     0.035141  124486237  \n",
      "752  1609200000    -0.013404  121047324  \n",
      "753  1609286400    -0.008563   96452124  \n",
      "754  1609372800    -0.007732   99116586  \n",
      "\n",
      "[755 rows x 9 columns]\n"
     ]
    }
   ],
   "source": [
    "df = question3.get_Question3()\n",
    "#print(df)"
   ]
  },
  {
   "cell_type": "code",
   "execution_count": 3,
   "id": "super-cattle",
   "metadata": {},
   "outputs": [
    {
     "data": {
      "image/png": "[encoded data removed]",
      "text/plain": [
       "<Figure size 432x288 with 1 Axes>"
      ]
     },
     "metadata": {
      "needs_background": "light"
     },
     "output_type": "display_data"
    }
   ],
   "source": [
    "# Histogram Plot\n",
    "plt.hist(df['daily_return'])\n",
    "plt.show()"
   ]
  },
  {
   "cell_type": "code",
   "execution_count": 4,
   "id": "brazilian-toolbox",
   "metadata": {},
   "outputs": [
    {
     "name": "stdout",
     "output_type": "stream",
     "text": [
      "0.001490470169943322\n"
     ]
    }
   ],
   "source": [
    "import numpy as np\n",
    "# mean\n",
    "mu = np.mean(df['daily_return'])\n",
    "print(mu)"
   ]
  },
  {
   "cell_type": "code",
   "execution_count": 5,
   "id": "adopted-agreement",
   "metadata": {},
   "outputs": [
    {
     "name": "stdout",
     "output_type": "stream",
     "text": [
      "0.022219955167324286\n"
     ]
    }
   ],
   "source": [
    "# std\n",
    "std = np.std(df['daily_return'])\n",
    "print(std)"
   ]
  },
  {
   "cell_type": "code",
   "execution_count": 6,
   "id": "present-ladder",
   "metadata": {},
   "outputs": [],
   "source": [
    "from scipy.stats import shapiro\n",
    "# Shapior_wilk Test\n",
    "stat, p = shapiro(df['daily_return'])"
   ]
  },
  {
   "cell_type": "code",
   "execution_count": 7,
   "id": "turkish-victor",
   "metadata": {},
   "outputs": [
    {
     "name": "stdout",
     "output_type": "stream",
     "text": [
      "1.1950450208024637e-19\n"
     ]
    }
   ],
   "source": [
    "print(p)"
   ]
  },
  {
   "cell_type": "code",
   "execution_count": 8,
   "id": "revised-brave",
   "metadata": {},
   "outputs": [],
   "source": [
    "alpha = 0.05"
   ]
  },
  {
   "cell_type": "code",
   "execution_count": 9,
   "id": "periodic-charity",
   "metadata": {},
   "outputs": [
    {
     "name": "stdout",
     "output_type": "stream",
     "text": [
      "The dialy return is NOT normal distribution\n"
     ]
    }
   ],
   "source": [
    "if p > alpha:\n",
    "    print(\"The daily return is normal distribution\")\n",
    "else:\n",
    "    print(\"The dialy return is NOT normal distribution\")"
   ]
  },
  {
   "cell_type": "code",
   "execution_count": 10,
   "id": "through-bishop",
   "metadata": {},
   "outputs": [],
   "source": [
    "from scipy.stats import normaltest\n",
    "# normally test\n",
    "stat, p = normaltest(df['daily_return'])"
   ]
  },
  {
   "cell_type": "code",
   "execution_count": 11,
   "id": "small-chrome",
   "metadata": {},
   "outputs": [
    {
     "name": "stdout",
     "output_type": "stream",
     "text": [
      "4.614561701318323e-26\n"
     ]
    }
   ],
   "source": [
    "print(p)"
   ]
  },
  {
   "cell_type": "code",
   "execution_count": 12,
   "id": "immediate-moral",
   "metadata": {},
   "outputs": [],
   "source": [
    "alpha = 0.05"
   ]
  },
  {
   "cell_type": "code",
   "execution_count": 13,
   "id": "environmental-forwarding",
   "metadata": {},
   "outputs": [
    {
     "name": "stdout",
     "output_type": "stream",
     "text": [
      "The daily return is NO normal distribution.\n"
     ]
    }
   ],
   "source": [
    "if p > alpha:\n",
    "    print('The daily return is normal distribution.')\n",
    "else:\n",
    "    print('The daily return is NO normal distribution.')"
   ]
  }
 ],
 "metadata": {
  "kernelspec": {
   "display_name": "Python 3",
   "language": "python",
   "name": "python3"
  },
  "language_info": {
   "codemirror_mode": {
    "name": "ipython",
    "version": 3
   },
   "file_extension": ".py",
   "mimetype": "text/x-python",
   "name": "python",
   "nbconvert_exporter": "python",
   "pygments_lexer": "ipython3",
   "version": "3.8.5"
  }
 },
 "nbformat": 4,
 "nbformat_minor": 5
}
