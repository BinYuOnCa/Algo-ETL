{
 "cells": [
  {
   "cell_type": "markdown",
   "metadata": {},
   "source": [
    "# PSO Examples"
   ]
  },
  {
   "cell_type": "markdown",
   "metadata": {},
   "source": [
    "This script is mainly to demostrate the pso (particle swarm optimization) function.\n",
    "\n",
    "For the steps and theories of the pso function building, please refer the documentation at **README.md** and the codes in **pso_fun.py**\n",
    "\n",
    "# Part I. Basics"
   ]
  },
  {
   "cell_type": "code",
   "execution_count": 9,
   "metadata": {},
   "outputs": [],
   "source": [
    "import numpy as np\n",
    "from pso_fun import pso_min"
   ]
  },
  {
   "cell_type": "markdown",
   "metadata": {},
   "source": [
    "Assume the function to optimize (find minimum value in domain) is\n",
    "$ y = -(x_1^2 + x_2^2+ x_3^2+ x_4^2) $, where all x $\\in$ [0, 30]\n",
    "\n",
    "It is easy to know the optimum value is **-3600** when **x = [30,30,30,30]**"
   ]
  },
  {
   "cell_type": "code",
   "execution_count": 3,
   "metadata": {},
   "outputs": [],
   "source": [
    "def test_fun_1(x):\n",
    "    x1, x2, x3, x4 = x\n",
    "    y = -(x1 ** 2 + x2 ** 2 + x3 ** 2 + x4 ** 2)\n",
    "    return y\n",
    "\n",
    "lower_bound = [0, 0, 0, 0]\n",
    "upper_bound = [30, 30, 30, 30]"
   ]
  },
  {
   "cell_type": "code",
   "execution_count": 7,
   "metadata": {},
   "outputs": [
    {
     "name": "stdout",
     "output_type": "stream",
     "text": [
      "Achieve the minimum difference of 1e-08 at 33 iterations.\n",
      "The achieved optimum (minimum) value is -3599.99\n",
      "The corresponding solution is [30. 30. 30. 30.]\n"
     ]
    },
    {
     "data": {
      "text/plain": [
       "(-3599.993711037324,\n",
       " array([29.99999413, 29.99999738, 29.99997519, 29.99992848]))"
      ]
     },
     "execution_count": 7,
     "metadata": {},
     "output_type": "execute_result"
    }
   ],
   "source": [
    "pso_min(test_fun_1, lower_bound, upper_bound, random_seed=2021, show_result=True)\n",
    "# here we set the random seed to 233 for reproducible test"
   ]
  },
  {
   "cell_type": "markdown",
   "metadata": {},
   "source": [
    "Now let's change the domain:"
   ]
  },
  {
   "cell_type": "code",
   "execution_count": 10,
   "metadata": {},
   "outputs": [],
   "source": [
    "new_lower_bound = [-25.5, 0, np.pi, 0]\n",
    "new_upper_bound = [35.5, 60, 35.5, 30]"
   ]
  },
  {
   "cell_type": "code",
   "execution_count": 11,
   "metadata": {},
   "outputs": [
    {
     "name": "stdout",
     "output_type": "stream",
     "text": [
      "Achieve the minimum difference of 1e-08 at 31 iterations.\n",
      "The achieved optimum (minimum) value is -7020.46\n",
      "The corresponding solution is [35.5 60.  35.5 30. ]\n"
     ]
    },
    {
     "data": {
      "text/plain": [
       "(-7020.459729352235,\n",
       " array([35.49976432, 59.99999537, 35.49968024, 29.99999536]))"
      ]
     },
     "execution_count": 11,
     "metadata": {},
     "output_type": "execute_result"
    }
   ],
   "source": [
    "pso_min(test_fun_1, new_lower_bound, new_upper_bound, random_seed=2021, show_result=True)"
   ]
  },
  {
   "cell_type": "markdown",
   "metadata": {},
   "source": [
    "The function also provided the resonalbe solution and value.\n",
    "\n",
    "Now let's add some **constraints** on this problem:\n",
    "$$ x_1 > 2x_2 $$\n",
    "$$ x_3^2 > x_4^3 + 5 $$\n",
    "\n",
    "Transfer the constraints into coding:"
   ]
  },
  {
   "cell_type": "code",
   "execution_count": 32,
   "metadata": {},
   "outputs": [],
   "source": [
    "def constraints(x):\n",
    "    x1, x2, x3, x4 = x\n",
    "    return [x1 - 2*x2, x3**2 - x4**3 - 5]"
   ]
  },
  {
   "cell_type": "code",
   "execution_count": 33,
   "metadata": {},
   "outputs": [
    {
     "name": "stdout",
     "output_type": "stream",
     "text": [
      "Achieve the minimum difference of 1e-08 at 21 iterations.\n",
      "The achieved optimum (minimum) value is -2015.11\n",
      "The corresponding solution is [29.98 14.81 29.99  0.  ]\n"
     ]
    },
    {
     "data": {
      "text/plain": [
       "(-2015.1086357892452,\n",
       " array([2.99844813e+01, 1.48117257e+01, 2.99903859e+01, 4.69984190e-03]))"
      ]
     },
     "execution_count": 33,
     "metadata": {},
     "output_type": "execute_result"
    }
   ],
   "source": [
    "pso_min(test_fun_1, lower_bound, upper_bound, cons=constraints, \n",
    "        random_seed=2021, show_result=True)"
   ]
  },
  {
   "cell_type": "markdown",
   "metadata": {},
   "source": [
    "The function also performed well in this situation."
   ]
  },
  {
   "cell_type": "code",
   "execution_count": null,
   "metadata": {},
   "outputs": [],
   "source": []
  }
 ],
 "metadata": {
  "kernelspec": {
   "display_name": "Python [conda env:Py_workshop]",
   "language": "python",
   "name": "conda-env-Py_workshop-py"
  },
  "language_info": {
   "codemirror_mode": {
    "name": "ipython",
    "version": 3
   },
   "file_extension": ".py",
   "mimetype": "text/x-python",
   "name": "python",
   "nbconvert_exporter": "python",
   "pygments_lexer": "ipython3",
   "version": "3.7.7"
  }
 },
 "nbformat": 4,
 "nbformat_minor": 2
}
